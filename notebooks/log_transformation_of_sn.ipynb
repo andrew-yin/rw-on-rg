{
 "cells": [
  {
   "cell_type": "code",
   "execution_count": 10,
   "metadata": {},
   "outputs": [],
   "source": [
    "# Setup\n",
    "%matplotlib inline\n",
    "import sys\n",
    "import matplotlib.pyplot as plt\n",
    "import numpy as np\n",
    "\n",
    "sys.path.insert(0, '..')\n",
    "plt.rcParams['figure.figsize'] = [10, 8]\n",
    "\n",
    "from graph import Graph\n",
    "from walkers import RandomWalker\n",
    "from simulator import Simulator"
   ]
  },
  {
   "cell_type": "markdown",
   "metadata": {},
   "source": [
    "### The following code calculates the average slope of log(1-Sn) vs number of steps, where Sn is the visited proportions, based on 100 simulations. n = 1000, d = 10, k = 10 "
   ]
  },
  {
   "cell_type": "code",
   "execution_count": 11,
   "metadata": {},
   "outputs": [],
   "source": [
    "# Set parameters of n, d, p, k = 10\n",
    "n = 1000\n",
    "expected_deg = 10\n",
    "p = expected_deg/n\n",
    "k = 10"
   ]
  },
  {
   "cell_type": "code",
   "execution_count": 14,
   "metadata": {},
   "outputs": [
    {
     "name": "stdout",
     "output_type": "stream",
     "text": [
      "[-1.52699039 -2.14368882 -1.45891538 -2.49115039 -1.43534128 -1.40784165\n",
      " -2.94668321 -1.14206619 -1.92236164 -1.73890859 -1.43928892 -2.1101461\n",
      " -1.63332006 -1.69414069 -1.34355176 -3.38348185 -2.09878517 -2.79721876\n",
      " -2.48224067 -1.09890203 -1.84378058 -2.17208254 -2.41567569 -0.72404139\n",
      " -2.97787717 -1.94447855 -0.94990043 -2.20823582 -2.39813575 -1.55287704\n",
      " -2.27043429 -2.51173516 -1.40785733 -1.62708111 -1.74030445 -2.39321664\n",
      " -1.6305265  -2.10187823 -2.01260723 -1.82453022 -2.73595931 -1.48904208\n",
      " -2.44683646 -0.87369656 -3.30250889 -2.64545863 -1.68230898 -1.03157025\n",
      " -1.25003636 -2.04498758 -2.57560786 -1.59345543 -2.49874899 -2.63159211\n",
      " -0.95750406 -3.07937685 -2.32714674 -1.61847925 -1.31043308 -2.3147696\n",
      " -1.77624498 -1.92099638 -1.21347902 -2.94803462 -2.55445309 -2.42175941\n",
      " -1.73301718 -3.48069588 -1.70738063 -3.63210869 -0.97641716 -0.86330497\n",
      " -1.66708269 -3.82494804 -1.44358045 -3.46362715 -1.79154973 -2.31319048\n",
      " -2.50615819 -0.8650271  -1.80768589 -2.7616546  -1.34427711 -1.9049789\n",
      " -2.59176899 -2.21295434 -1.73855082 -0.94198649 -3.09573821 -2.38012078\n",
      " -3.31208374 -2.46707773 -2.74857565 -1.50825777 -1.62346051 -1.05754531\n",
      " -1.29331441 -2.03172519 -1.8839823  -1.54375679]\n"
     ]
    }
   ],
   "source": [
    "# Do a log transformation on 1- S_n and calculate the average slope of the linear fit on 100 simulations\n",
    "nsim = 100\n",
    "slope_values = np.empty(100, dtype = float)\n",
    "\n",
    "for i in range(0, nsim):\n",
    "    S_n = Simulator.simulate_rw_on_rg_visited_prop(n, p, k, d=expected_deg)\n",
    "    S_n = S_n[S_n < 1]\n",
    "    S_n_log = np.log(1-S_n)\n",
    "    x_to_fit = np.arange(1,len(S_n_log) + 1, 1)\n",
    "    p = np.polyfit(x_to_fit, S_n_log, 1)\n",
    "    slope_values[i] = p[1]\n",
    "print(slope_values)"
   ]
  },
  {
   "cell_type": "code",
   "execution_count": 21,
   "metadata": {},
   "outputs": [
    {
     "data": {
      "text/plain": [
       "(array([ 2.,  5.,  5.,  7., 17., 11., 18., 18.,  8.,  9.]),\n",
       " array([-3.82494804, -3.51485738, -3.20476671, -2.89467605, -2.58458538,\n",
       "        -2.27449471, -1.96440405, -1.65431338, -1.34422272, -1.03413205,\n",
       "        -0.72404139]),\n",
       " <a list of 10 Patch objects>)"
      ]
     },
     "execution_count": 21,
     "metadata": {},
     "output_type": "execute_result"
    },
    {
     "data": {
      "image/png": "[encoded data removed]",
      "text/plain": [
       "<Figure size 720x576 with 1 Axes>"
      ]
     },
     "metadata": {
      "needs_background": "light"
     },
     "output_type": "display_data"
    }
   ],
   "source": [
    "plt.hist(slope_values)"
   ]
  },
  {
   "cell_type": "code",
   "execution_count": 22,
   "metadata": {},
   "outputs": [
    {
     "data": {
      "text/plain": [
       "-2.0076435007333098"
      ]
     },
     "execution_count": 22,
     "metadata": {},
     "output_type": "execute_result"
    }
   ],
   "source": [
    "# Get the average Slope value for 100 runs\n",
    "slope_values.mean()"
   ]
  },
  {
   "cell_type": "code",
   "execution_count": null,
   "metadata": {},
   "outputs": [],
   "source": []
  }
 ],
 "metadata": {
  "kernelspec": {
   "display_name": "Python 3",
   "language": "python",
   "name": "python3"
  },
  "language_info": {
   "codemirror_mode": {
    "name": "ipython",
    "version": 3
   },
   "file_extension": ".py",
   "mimetype": "text/x-python",
   "name": "python",
   "nbconvert_exporter": "python",
   "pygments_lexer": "ipython3",
   "version": "3.7.3"
  }
 },
 "nbformat": 4,
 "nbformat_minor": 4
}
