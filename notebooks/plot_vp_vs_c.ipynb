{
 "cells": [
  {
   "cell_type": "code",
   "execution_count": 1,
   "id": "1c2ae83c",
   "metadata": {},
   "outputs": [],
   "source": [
    "# Setup\n",
    "%matplotlib inline\n",
    "import sys\n",
    "import matplotlib.pyplot as plt\n",
    "import numpy as np\n",
    "\n",
    "sys.path.insert(0, '..')\n",
    "plt.rcParams['figure.figsize'] = [10, 8]\n",
    "\n",
    "from graph import Graph\n",
    "from walkers import RandomWalker\n",
    "from simulator import Simulator"
   ]
  },
  {
   "cell_type": "code",
   "execution_count": null,
   "id": "53ae01bf",
   "metadata": {},
   "outputs": [],
   "source": [
    "nodes = [100, 1000, 10000]\n",
    "expected_deg = 10\n",
    "k = 100000\n",
    "\n",
    "prop_avgs = [Simulator.simulate_rw_on_rg_visited_prop(n=i, \n",
    "                                                      p=expected_deg/i, \n",
    "                                                      k=k, \n",
    "                                                      comp_adj=True, \n",
    "                                                      d=expected_deg) for i in nodes]"
   ]
  },
  {
   "cell_type": "code",
   "execution_count": null,
   "id": "178eb477",
   "metadata": {},
   "outputs": [],
   "source": [
    "c = np.arange(0, 0.2, 0.01)\n",
    "prop_avgs_at_c = [[prop_avgs[i][int(j*nodes[i]*np.log(nodes[i])*np.log(nodes[i]))] for j in c] for i in range(len(nodes))]"
   ]
  },
  {
   "cell_type": "code",
   "execution_count": null,
   "id": "fc3c3cda",
   "metadata": {},
   "outputs": [],
   "source": [
    "for i in range(len(prop_avgs_at_c)):\n",
    "    plt.plot(c, prop_avgs_at_c[i], label='n={:d}'.format(nodes[i]))\n",
    "\n",
    "plt.title(\"Proportion of Visited Vertices vs. c, k={:d}\".format(k))\n",
    "plt.xlabel(\"c\")\n",
    "plt.ylabel(\"Proportion of visited vertices\")\n",
    "plt.legend()\n",
    "plt.show()"
   ]
  },
  {
   "cell_type": "code",
   "execution_count": null,
   "id": "fcafb1b8",
   "metadata": {},
   "outputs": [],
   "source": []
  }
 ],
 "metadata": {
  "kernelspec": {
   "display_name": "Python 3 (ipykernel)",
   "language": "python",
   "name": "python3"
  },
  "language_info": {
   "codemirror_mode": {
    "name": "ipython",
    "version": 3
   },
   "file_extension": ".py",
   "mimetype": "text/x-python",
   "name": "python",
   "nbconvert_exporter": "python",
   "pygments_lexer": "ipython3",
   "version": "3.9.7"
  }
 },
 "nbformat": 4,
 "nbformat_minor": 5
}
