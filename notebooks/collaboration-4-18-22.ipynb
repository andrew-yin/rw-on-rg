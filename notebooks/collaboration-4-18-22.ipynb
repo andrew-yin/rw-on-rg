{
 "cells": [
  {
   "cell_type": "markdown",
   "id": "22d90646",
   "metadata": {},
   "source": [
    "# Collaboration 4/18/22"
   ]
  },
  {
   "cell_type": "code",
   "execution_count": 1,
   "id": "3ce73ebf",
   "metadata": {},
   "outputs": [],
   "source": [
    "%matplotlib inline\n",
    "import sys\n",
    "import matplotlib.pyplot as plt\n",
    "import numpy as np\n",
    "from scipy.optimize import curve_fit\n",
    "sys.path.insert(0, '..')\n",
    "\n",
    "\n",
    "plt.rcParams['figure.figsize'] = [10, 8]\n",
    "from graph import Graph\n",
    "from collaboration import *"
   ]
  },
  {
   "cell_type": "code",
   "execution_count": 2,
   "id": "52b3109d",
   "metadata": {},
   "outputs": [],
   "source": [
    "folder_path = \"collaboration_4_12_22/\""
   ]
  },
  {
   "cell_type": "code",
   "execution_count": 3,
   "id": "b4658a64",
   "metadata": {},
   "outputs": [],
   "source": [
    "n = 100\n",
    "d = 10\n",
    "k = 100000"
   ]
  },
  {
   "cell_type": "markdown",
   "id": "b40ad7f7",
   "metadata": {},
   "source": [
    "# n RWs on ER"
   ]
  },
  {
   "cell_type": "code",
   "execution_count": 4,
   "id": "6bcb6aa7",
   "metadata": {},
   "outputs": [],
   "source": [
    "def f(c, a1, a2, a3):\n",
    "    return a1*np.exp(-a2*c) + a3"
   ]
  },
  {
   "cell_type": "code",
   "execution_count": 6,
   "id": "622618f2",
   "metadata": {},
   "outputs": [],
   "source": [
    "coefficients = []\n",
    "\n",
    "for i in range(2, 11):\n",
    "    graph = Graph.get_er_random_graph(n, d/n)\n",
    "    c = int(10/i)\n",
    "    cs = np.arange(c, step=0.01)\n",
    "    t = c*n\n",
    "    collab_covered_avg, single_covered_avg = simulate_rw_collab_vs_single(\n",
    "        graph=graph, \n",
    "        collab_num=i, \n",
    "        k=k, \n",
    "        collab_steps_per_iter=t)\n",
    "    \n",
    "    diff = collab_covered_avg - np.array([single_covered_avg[i*j] for j in range(c*n+1)])\n",
    "    scaled_diff = np.array([diff[int(j*n)] for j in cs])\n",
    "    \n",
    "    popt, pcov = curve_fit(f, cs, scaled_diff)\n",
    "    coefficients.append(popt)"
   ]
  },
  {
   "cell_type": "code",
   "execution_count": 8,
   "id": "c65ad637",
   "metadata": {},
   "outputs": [
    {
     "data": {
      "image/png": "[encoded data removed]",
      "text/plain": [
       "<Figure size 720x576 with 1 Axes>"
      ]
     },
     "metadata": {
      "needs_background": "light"
     },
     "output_type": "display_data"
    }
   ],
   "source": [
    "plt.plot(np.arange(2, 11, step=1), coefficients, label=[\"a1\", \"a2\", \"a3\"])\n",
    "plt.title(\"Function Parameters vs. # of Walkers\")\n",
    "plt.legend()\n",
    "plt.show()"
   ]
  },
  {
   "cell_type": "code",
   "execution_count": 9,
   "id": "663346f2",
   "metadata": {},
   "outputs": [
    {
     "data": {
      "text/plain": [
       "[array([1.05010337, 1.60935241, 0.00235764]),\n",
       " array([2.0957821 , 2.45599483, 0.01878108]),\n",
       " array([3.12130483, 3.43750358, 0.03079061]),\n",
       " array([4.12239195, 4.1712676 , 0.02661044]),\n",
       " array([5.12231255, 5.06913985, 0.05994856]),\n",
       " array([6.12256923, 5.94812549, 0.04615139]),\n",
       " array([7.10438744, 6.54470164, 0.05258482]),\n",
       " array([8.00422332, 7.44827387, 0.04338966]),\n",
       " array([8.95871435, 8.35013321, 0.05320863])]"
      ]
     },
     "execution_count": 9,
     "metadata": {},
     "output_type": "execute_result"
    }
   ],
   "source": [
    "coefficients"
   ]
  },
  {
   "cell_type": "code",
   "execution_count": 14,
   "id": "b386f3d5",
   "metadata": {},
   "outputs": [
    {
     "name": "stdout",
     "output_type": "stream",
     "text": [
      "Simulating n=100...done!\n",
      "Simulating n=500...done!\n",
      "Simulating n=1000..."
     ]
    },
    {
     "ename": "RuntimeError",
     "evalue": "Optimal parameters not found: Number of calls to function has reached maxfev = 800.",
     "output_type": "error",
     "traceback": [
      "\u001b[0;31m---------------------------------------------------------------------------\u001b[0m",
      "\u001b[0;31mRuntimeError\u001b[0m                              Traceback (most recent call last)",
      "\u001b[0;32m/var/folders/wp/svz0rq8n0x10g6tdp4ctz5_80000gn/T/ipykernel_42068/2601518840.py\u001b[0m in \u001b[0;36m<module>\u001b[0;34m\u001b[0m\n\u001b[1;32m     16\u001b[0m     \u001b[0mscaled_diff\u001b[0m \u001b[0;34m=\u001b[0m \u001b[0mnp\u001b[0m\u001b[0;34m.\u001b[0m\u001b[0marray\u001b[0m\u001b[0;34m(\u001b[0m\u001b[0;34m[\u001b[0m\u001b[0mdiff\u001b[0m\u001b[0;34m[\u001b[0m\u001b[0mint\u001b[0m\u001b[0;34m(\u001b[0m\u001b[0mi\u001b[0m\u001b[0;34m*\u001b[0m\u001b[0mn\u001b[0m\u001b[0;34m)\u001b[0m\u001b[0;34m]\u001b[0m \u001b[0;32mfor\u001b[0m \u001b[0mi\u001b[0m \u001b[0;32min\u001b[0m \u001b[0mcs\u001b[0m\u001b[0;34m]\u001b[0m\u001b[0;34m)\u001b[0m\u001b[0;34m\u001b[0m\u001b[0;34m\u001b[0m\u001b[0m\n\u001b[1;32m     17\u001b[0m \u001b[0;34m\u001b[0m\u001b[0m\n\u001b[0;32m---> 18\u001b[0;31m     \u001b[0mpopt\u001b[0m\u001b[0;34m,\u001b[0m \u001b[0mpcov\u001b[0m \u001b[0;34m=\u001b[0m \u001b[0mcurve_fit\u001b[0m\u001b[0;34m(\u001b[0m\u001b[0mf\u001b[0m\u001b[0;34m,\u001b[0m \u001b[0mcs\u001b[0m\u001b[0;34m,\u001b[0m \u001b[0mscaled_diff\u001b[0m\u001b[0;34m)\u001b[0m\u001b[0;34m\u001b[0m\u001b[0;34m\u001b[0m\u001b[0m\n\u001b[0m\u001b[1;32m     19\u001b[0m     \u001b[0mcoefficients2\u001b[0m\u001b[0;34m.\u001b[0m\u001b[0mappend\u001b[0m\u001b[0;34m(\u001b[0m\u001b[0mpopt\u001b[0m\u001b[0;34m)\u001b[0m\u001b[0;34m\u001b[0m\u001b[0;34m\u001b[0m\u001b[0m\n\u001b[1;32m     20\u001b[0m     \u001b[0mprint\u001b[0m\u001b[0;34m(\u001b[0m\u001b[0;34m\"done!\"\u001b[0m\u001b[0;34m)\u001b[0m\u001b[0;34m\u001b[0m\u001b[0;34m\u001b[0m\u001b[0m\n",
      "\u001b[0;32m~/.pyenv/versions/3.9.7/lib/python3.9/site-packages/scipy/optimize/minpack.py\u001b[0m in \u001b[0;36mcurve_fit\u001b[0;34m(f, xdata, ydata, p0, sigma, absolute_sigma, check_finite, bounds, method, jac, **kwargs)\u001b[0m\n\u001b[1;32m    792\u001b[0m         \u001b[0mcost\u001b[0m \u001b[0;34m=\u001b[0m \u001b[0mnp\u001b[0m\u001b[0;34m.\u001b[0m\u001b[0msum\u001b[0m\u001b[0;34m(\u001b[0m\u001b[0minfodict\u001b[0m\u001b[0;34m[\u001b[0m\u001b[0;34m'fvec'\u001b[0m\u001b[0;34m]\u001b[0m \u001b[0;34m**\u001b[0m \u001b[0;36m2\u001b[0m\u001b[0;34m)\u001b[0m\u001b[0;34m\u001b[0m\u001b[0;34m\u001b[0m\u001b[0m\n\u001b[1;32m    793\u001b[0m         \u001b[0;32mif\u001b[0m \u001b[0mier\u001b[0m \u001b[0;32mnot\u001b[0m \u001b[0;32min\u001b[0m \u001b[0;34m[\u001b[0m\u001b[0;36m1\u001b[0m\u001b[0;34m,\u001b[0m \u001b[0;36m2\u001b[0m\u001b[0;34m,\u001b[0m \u001b[0;36m3\u001b[0m\u001b[0;34m,\u001b[0m \u001b[0;36m4\u001b[0m\u001b[0;34m]\u001b[0m\u001b[0;34m:\u001b[0m\u001b[0;34m\u001b[0m\u001b[0;34m\u001b[0m\u001b[0m\n\u001b[0;32m--> 794\u001b[0;31m             \u001b[0;32mraise\u001b[0m \u001b[0mRuntimeError\u001b[0m\u001b[0;34m(\u001b[0m\u001b[0;34m\"Optimal parameters not found: \"\u001b[0m \u001b[0;34m+\u001b[0m \u001b[0merrmsg\u001b[0m\u001b[0;34m)\u001b[0m\u001b[0;34m\u001b[0m\u001b[0;34m\u001b[0m\u001b[0m\n\u001b[0m\u001b[1;32m    795\u001b[0m     \u001b[0;32melse\u001b[0m\u001b[0;34m:\u001b[0m\u001b[0;34m\u001b[0m\u001b[0;34m\u001b[0m\u001b[0m\n\u001b[1;32m    796\u001b[0m         \u001b[0;31m# Rename maxfev (leastsq) to max_nfev (least_squares), if specified.\u001b[0m\u001b[0;34m\u001b[0m\u001b[0;34m\u001b[0m\u001b[0m\n",
      "\u001b[0;31mRuntimeError\u001b[0m: Optimal parameters not found: Number of calls to function has reached maxfev = 800."
     ]
    }
   ],
   "source": [
    "coefficients2 = []\n",
    "c = 5\n",
    "cs = np.arange(c, step=0.01)\n",
    "\n",
    "for n in [100, 500, 1000, 5000]:\n",
    "    graph = Graph.get_er_random_graph(n, d/n)\n",
    "    t = c*n\n",
    "    print(f\"Simulating n={n}...\", end=\"\")\n",
    "    collab_covered_avg, single_covered_avg = simulate_rw_collab_vs_single(\n",
    "        graph=graph, \n",
    "        collab_num=2, \n",
    "        k=k, \n",
    "        collab_steps_per_iter=t)\n",
    "    \n",
    "    diff = collab_covered_avg - np.array([single_covered_avg[2*i] for i in range(c*n+1)])\n",
    "    scaled_diff = np.array([diff[int(i*n)] for i in cs])\n",
    "    \n",
    "    popt, pcov = curve_fit(f, cs, scaled_diff)\n",
    "    coefficients2.append(popt)\n",
    "    print(\"done!\")"
   ]
  },
  {
   "cell_type": "code",
   "execution_count": 15,
   "id": "1f6984fa",
   "metadata": {},
   "outputs": [
    {
     "data": {
      "text/plain": [
       "[array([1.07190027, 1.65522882, 0.00176857]),\n",
       " array([1.06370472, 1.77313205, 0.01287194])]"
      ]
     },
     "execution_count": 15,
     "metadata": {},
     "output_type": "execute_result"
    }
   ],
   "source": [
    "coefficients2"
   ]
  },
  {
   "cell_type": "code",
   "execution_count": null,
   "id": "93bc65d5",
   "metadata": {},
   "outputs": [
    {
     "name": "stdout",
     "output_type": "stream",
     "text": [
      "Simulating n=1000...done!\n",
      "Simulating n=5000..."
     ]
    }
   ],
   "source": [
    "for n in [1000, 5000]:\n",
    "    graph = Graph.get_er_random_graph(n, d/n)\n",
    "    t = c*n\n",
    "    print(f\"Simulating n={n}...\", end=\"\")\n",
    "    collab_covered_avg, single_covered_avg = simulate_rw_collab_vs_single(\n",
    "        graph=graph, \n",
    "        collab_num=2, \n",
    "        k=k, \n",
    "        collab_steps_per_iter=t)\n",
    "    \n",
    "    diff = collab_covered_avg - np.array([single_covered_avg[2*i] for i in range(c*n+1)])\n",
    "    scaled_diff = np.array([diff[int(i*n)] for i in cs])\n",
    "    \n",
    "    popt, pcov = curve_fit(f, cs, scaled_diff, p0=[1,1,0], maxfev=10000)\n",
    "    coefficients2.append(popt)\n",
    "    print(\"done!\")"
   ]
  },
  {
   "cell_type": "code",
   "execution_count": null,
   "id": "bf3d087c",
   "metadata": {},
   "outputs": [],
   "source": []
  }
 ],
 "metadata": {
  "kernelspec": {
   "display_name": "Python 3 (ipykernel)",
   "language": "python",
   "name": "python3"
  },
  "language_info": {
   "codemirror_mode": {
    "name": "ipython",
    "version": 3
   },
   "file_extension": ".py",
   "mimetype": "text/x-python",
   "name": "python",
   "nbconvert_exporter": "python",
   "pygments_lexer": "ipython3",
   "version": "3.9.7"
  }
 },
 "nbformat": 4,
 "nbformat_minor": 5
}
