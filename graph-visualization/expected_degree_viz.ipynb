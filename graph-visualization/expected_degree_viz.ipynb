{
 "cells": [
  {
   "cell_type": "code",
   "execution_count": 82,
   "id": "727890df",
   "metadata": {},
   "outputs": [],
   "source": [
    "# Setup\n",
    "%matplotlib inline\n",
    "import sys\n",
    "import matplotlib.pyplot as plt\n",
    "import numpy as np\n",
    "import pygraphviz as pgv\n",
    "import networkx as nx\n",
    "\n",
    "sys.path.insert(0, '..')\n",
    "plt.rcParams['figure.figsize'] = [10, 8]\n",
    "\n",
    "from graph import Graph\n",
    "import walkers\n",
    "from simulator import Simulator"
   ]
  },
  {
   "cell_type": "code",
   "execution_count": 83,
   "id": "12ddaddd",
   "metadata": {},
   "outputs": [],
   "source": [
    "n = 100\n",
    "d1 = {2 : 1/10, 10 : 9/10}\n",
    "d2 = {2 : 9/10, 10 : 1/10}\n",
    "\n",
    "G1 = Graph.get_expected_d_random_graph(n, d1)\n",
    "G2 = Graph.get_expected_d_random_graph(n, d2)"
   ]
  },
  {
   "cell_type": "code",
   "execution_count": 84,
   "id": "724672f4",
   "metadata": {},
   "outputs": [],
   "source": [
    "G1_pgv = nx.nx_agraph.to_agraph(G1)\n",
    "G2_pgv = nx.nx_agraph.to_agraph(G2)"
   ]
  },
  {
   "cell_type": "code",
   "execution_count": 85,
   "id": "1feb4146",
   "metadata": {},
   "outputs": [],
   "source": [
    "G1_pgv.draw(f\"{d1}.png\", prog=\"sfdp\")\n",
    "G2_pgv.draw(f\"{d2}.png\", prog=\"sfdp\")"
   ]
  },
  {
   "cell_type": "code",
   "execution_count": null,
   "id": "623bb811",
   "metadata": {},
   "outputs": [],
   "source": []
  }
 ],
 "metadata": {
  "kernelspec": {
   "display_name": "Python 3 (ipykernel)",
   "language": "python",
   "name": "python3"
  },
  "language_info": {
   "codemirror_mode": {
    "name": "ipython",
    "version": 3
   },
   "file_extension": ".py",
   "mimetype": "text/x-python",
   "name": "python",
   "nbconvert_exporter": "python",
   "pygments_lexer": "ipython3",
   "version": "3.9.7"
  }
 },
 "nbformat": 4,
 "nbformat_minor": 5
}
