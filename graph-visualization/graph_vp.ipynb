{
 "cells": [
  {
   "cell_type": "code",
   "execution_count": 1,
   "id": "39e5ac8c",
   "metadata": {},
   "outputs": [],
   "source": [
    "# Setup\n",
    "%matplotlib inline\n",
    "import sys\n",
    "import matplotlib.pyplot as plt\n",
    "import numpy as np\n",
    "import pygraphviz as pgv\n",
    "import networkx as nx\n",
    "\n",
    "sys.path.insert(0, '..')\n",
    "plt.rcParams['figure.figsize'] = [10, 8]\n",
    "\n",
    "from graph import Graph\n",
    "import walkers\n",
    "from simulator import Simulator"
   ]
  },
  {
   "cell_type": "code",
   "execution_count": 2,
   "id": "c42bfb1a",
   "metadata": {},
   "outputs": [],
   "source": [
    "n = 100\n",
    "d = 10\n",
    "p = d/n\n",
    "steps = 10*n\n",
    "\n",
    "color = \"red\"\n",
    "penwidth = 3"
   ]
  },
  {
   "cell_type": "code",
   "execution_count": 3,
   "id": "33d7ac68",
   "metadata": {},
   "outputs": [],
   "source": [
    "G = Graph.get_er_random_graph(n, p)\n",
    "walker = walkers.RandomWalker()\n",
    "\n",
    "results = Simulator.simulate_walk(G, walker, steps)"
   ]
  },
  {
   "cell_type": "code",
   "execution_count": 4,
   "id": "c19ef6f4",
   "metadata": {},
   "outputs": [],
   "source": [
    "walk = results['walk']"
   ]
  },
  {
   "cell_type": "code",
   "execution_count": 5,
   "id": "7906f708",
   "metadata": {},
   "outputs": [],
   "source": [
    "screenshots = [int(c*n) for c in [0, 0.325, 0.8, 1.675, 6.8, 8.5]]\n",
    "step = 0\n",
    "G_pgv = nx.nx_agraph.to_agraph(G)\n",
    "for i, j in zip(walk, walk[1:]):\n",
    "    n = G_pgv.get_node(i)\n",
    "    m = G_pgv.get_node(j)\n",
    "    n.attr[\"style\"] = \"filled\"\n",
    "    m.attr[\"style\"] = \"filled\"\n",
    "    n.attr[\"color\"] = color\n",
    "    n.attr[\"fillcolor\"] = color\n",
    "    m.attr[\"color\"] = color\n",
    "    m.attr[\"fillcolor\"] = color\n",
    "    n.attr[\"penwidth\"] = penwidth\n",
    "    \n",
    "    e = G_pgv.get_edge(i, j)\n",
    "    e.attr[\"color\"] = color\n",
    "    e.attr[\"penwidth\"] = penwidth\n",
    "    \n",
    "    if step in screenshots:\n",
    "        G_pgv.draw(f\"visited_rw_rg_{step}\"\".png\", prog=\"circo\")\n",
    "    step += 1\n",
    "    "
   ]
  },
  {
   "cell_type": "code",
   "execution_count": null,
   "id": "45a1b651",
   "metadata": {},
   "outputs": [],
   "source": []
  }
 ],
 "metadata": {
  "kernelspec": {
   "display_name": "Python 3 (ipykernel)",
   "language": "python",
   "name": "python3"
  },
  "language_info": {
   "codemirror_mode": {
    "name": "ipython",
    "version": 3
   },
   "file_extension": ".py",
   "mimetype": "text/x-python",
   "name": "python",
   "nbconvert_exporter": "python",
   "pygments_lexer": "ipython3",
   "version": "3.9.7"
  }
 },
 "nbformat": 4,
 "nbformat_minor": 5
}
