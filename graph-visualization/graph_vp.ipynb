{
 "cells": [
  {
   "cell_type": "code",
   "execution_count": 39,
   "id": "39e5ac8c",
   "metadata": {},
   "outputs": [],
   "source": [
    "# Setup\n",
    "%matplotlib inline\n",
    "import sys\n",
    "import matplotlib.pyplot as plt\n",
    "import numpy as np\n",
    "import pygraphviz as pgv\n",
    "import networkx as nx\n",
    "\n",
    "sys.path.insert(0, '..')\n",
    "plt.rcParams['figure.figsize'] = [10, 8]\n",
    "\n",
    "from graph import Graph\n",
    "import walkers\n",
    "from simulator import Simulator"
   ]
  },
  {
   "cell_type": "code",
   "execution_count": 41,
   "id": "c42bfb1a",
   "metadata": {},
   "outputs": [],
   "source": [
    "n = 1000\n",
    "d = 10\n",
    "p = d/n\n",
    "steps = 2*n\n",
    "\n",
    "color = \"red\"\n",
    "penwidth = 3"
   ]
  },
  {
   "cell_type": "code",
   "execution_count": 42,
   "id": "33d7ac68",
   "metadata": {},
   "outputs": [],
   "source": [
    "G = Graph.get_er_random_graph(n, p)\n",
    "walker = walkers.RandomWalker()\n",
    "\n",
    "results = Simulator.simulate_walk(G, walker, steps)"
   ]
  },
  {
   "cell_type": "code",
   "execution_count": 43,
   "id": "c19ef6f4",
   "metadata": {},
   "outputs": [],
   "source": [
    "walk = results['walk']"
   ]
  },
  {
   "cell_type": "code",
   "execution_count": 44,
   "id": "7906f708",
   "metadata": {},
   "outputs": [],
   "source": [
    "G_pgv = nx.nx_agraph.to_agraph(G)\n",
    "for i, j in zip(walk, walk[1:]):\n",
    "    n = G_pgv.get_node(i)\n",
    "    m = G_pgv.get_node(j)\n",
    "    n.attr[\"color\"] = color\n",
    "    n.attr[\"fillcolor\"] = color\n",
    "    m.attr[\"color\"] = color\n",
    "    m.attr[\"fillcolor\"] = color\n",
    "    n.attr[\"penwid\"] = penwidth\n",
    "    \n",
    "    e = G_pgv.get_edge(i, j)\n",
    "    e.attr[\"color\"] = color\n",
    "    e.attr[\"penwidth\"] = penwidth\n",
    "    \n",
    "G_pgv.write(\"results.dot\")"
   ]
  },
  {
   "cell_type": "code",
   "execution_count": 45,
   "id": "c6715d10",
   "metadata": {},
   "outputs": [
    {
     "data": {
      "text/plain": [
       "0.794"
      ]
     },
     "execution_count": 45,
     "metadata": {},
     "output_type": "execute_result"
    }
   ],
   "source": [
    "results['proportions'][-1]"
   ]
  },
  {
   "cell_type": "code",
   "execution_count": null,
   "id": "1055efaf",
   "metadata": {},
   "outputs": [],
   "source": []
  }
 ],
 "metadata": {
  "kernelspec": {
   "display_name": "Python 3 (ipykernel)",
   "language": "python",
   "name": "python3"
  },
  "language_info": {
   "codemirror_mode": {
    "name": "ipython",
    "version": 3
   },
   "file_extension": ".py",
   "mimetype": "text/x-python",
   "name": "python",
   "nbconvert_exporter": "python",
   "pygments_lexer": "ipython3",
   "version": "3.9.7"
  }
 },
 "nbformat": 4,
 "nbformat_minor": 5
}
